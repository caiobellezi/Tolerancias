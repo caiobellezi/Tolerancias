{
 "cells": [
  {
   "cell_type": "markdown",
   "metadata": {},
   "source": [
    "# Analise de tolerancia unidimensional\n",
    "\n",
    "O Objetivo desta analise e avaliar a somatoria de tolerancias unidimensional entre 2 pecas estampadas, onde a folga é de 1,2mm,\n",
    "portanto qualquer valor que ultrapasse 1,2mm é considerado interferência\n",
    "\n",
    "Considerado peças com desvio padrão de 6 sigmas e critérios de qualidade de 8 sigmas"
   ]
  },
  {
   "cell_type": "code",
   "execution_count": 22,
   "metadata": {},
   "outputs": [],
   "source": [
    "#importando bibliotecas\n",
    "from scipy import stats\n",
    "from scipy.stats import norm\n",
    "import pandas as pd\n",
    "import numpy as np\n",
    "import math\n",
    "import matplotlib.pyplot as plt\n",
    "import seaborn as sns\n"
   ]
  },
  {
   "cell_type": "markdown",
   "metadata": {},
   "source": [
    "## Definindo a quantidade de amostras a serem utilizadas"
   ]
  },
  {
   "cell_type": "code",
   "execution_count": 9,
   "metadata": {},
   "outputs": [
    {
     "name": "stdout",
     "output_type": "stream",
     "text": [
      "Insira a quantidade de amostras a serem simuladas:\n",
      "ou deixe em branco para padrao\n",
      "100000\n"
     ]
    }
   ],
   "source": [
    "try:\n",
    "    amostra = int(input('Insira a quantidade de amostras a serem simuladas:\\nou deixe em branco para padrao'))\n",
    "except ValueError:\n",
    "    amostra = 100000\n",
    "print(amostra)"
   ]
  },
  {
   "cell_type": "markdown",
   "metadata": {},
   "source": [
    "## Definiçaõ de funções"
   ]
  },
  {
   "cell_type": "code",
   "execution_count": 10,
   "metadata": {},
   "outputs": [],
   "source": [
    "def tolerancia(tol,sigma=3,offset=0, sample=amostra):\n",
    "    '''\n",
    "    tol: ex=0.5, mean the tolerance equal +-0.5mm\n",
    "    sigma: how many sigmas the process attend, default=3\n",
    "    offset: nominal value, the center of gaussian curve, default=0\n",
    "            You can use tol=1, offset=0.5, it means the tolerance is from 0 until +1mm\n",
    "            if you use tol=0.5, offset=0, it means the tolerance is from -0.5 until +0.5mm\n",
    "    sample: how many samples is simulated, default=100000\n",
    "    '''\n",
    "    c1 = tol/sigma\n",
    "    s = pd.Series(tuple(norm.rvs(offset,c1, size=sample)))\n",
    "    return s\n",
    "\n",
    "\n",
    "def plothist(variavel):\n",
    "    '''\n",
    "    Histogram plot and '.PNG' file creation\n",
    "    '''\n",
    "    fig = plt.figure(figsize=(12,8))\n",
    "    mean = variavel.mean()\n",
    "    with plt.rc_context(dict(sns.axes_style(\"darkgrid\"),\n",
    "        \n",
    "        **sns.plotting_context(\"notebook\", font_scale=1.5))):\n",
    "        points = sns.distplot(variavel , bins=60, color='#303090')\n",
    "        sigma8p = variavel.quantile(0.99994)\n",
    "        sigma8n = variavel.quantile(0.00006)\n",
    "        probout = norm.sf(1.2, variavel.mean(), variavel.std())*100\n",
    "        points.text(x=1.2+0.2, y=0.22, s=str(round(probout,2))+'%', color='r', weight='bold')\n",
    "        points.text(x=sigma8n-1, y=0.02, s=str(round(sigma8n,2))+'mm', color='b', fontsize=16)\n",
    "        points.text(x=sigma8p+0.1, y=0.02, s=str(round(sigma8p,2))+'mm', color='b', fontsize=16)\n",
    "        points.text(x=1.2+0.075, y=0.34, s='Interferência (1.2mm)', color='r', fontsize=10, rotation=90)\n",
    "        points.text(x=sigma8n+0.075, y=0.38, s='8 sigma - 99,994%', color='b', fontsize=8, rotation=90)\n",
    "        points.text(x=sigma8p+0.075, y=0.38, s='8 sigma - 99,994%', color='b', fontsize=8, rotation=90)\n",
    "        plt.title(\"Avaliacao de interferência\", loc='left')\n",
    "        plt.ylabel(\"Densidade de Probabilidade\")\n",
    "        plt.xlabel(\"Variação em mm\")\n",
    "        points = points.get_lines()[0].get_data()\n",
    "        x = points[0]\n",
    "        y = points[1]\n",
    "        plt.fill_between(x,y, where = x<1.2, color='g')\n",
    "        plt.fill_between(x,y, where = x>=1.2, color='r')\n",
    "\n",
    "        plt.axvline(x=sigma8p, color='blue', linestyle='--')\n",
    "        plt.axvline(x=sigma8n, color='blue', linestyle='--')\n",
    "        plt.axvline(x=1.2, color='red', linestyle='--')\n",
    "                \n",
    "        plt.axvline(x=mean, color='black', linestyle='-')\n",
    "        print('8Sigma: +{}mm / {}mm\\nMédia {}mm'.format(sigma8p,sigma8n,mean))\n",
    "        \n",
    "    return plt.savefig(variavel.name+'.png', dpi=400, transparent=False)\n",
    "    \n",
    "\n"
   ]
  },
  {
   "cell_type": "code",
   "execution_count": 11,
   "metadata": {},
   "outputs": [],
   "source": [
    "#inserindo as tolerancias Peça 1\n",
    "peca1_lc = tolerancia(0.5) #tolerancia da linha de corte da peca 1 | +-0,5mm\n",
    "tol_furo1 = tolerancia(0.1, offset=0.1) #tolerancia do furo da peca 1 | 0/+0,2mm\n",
    "tol_furo2 = tolerancia(0.1, offset=0.1) #tolerancia do furo da peca 2 | 0/+0,2mm\n",
    "pinorps = tolerancia(0.1, offset=-0.1) #tolerancia do pino RPS no dispositivo | -0,2/0mm\n",
    "\n",
    "'''para criar uma distribuicao uniforme, vamos gerar metade das amostras \n",
    "com valores negativos e a outra metade com valores positivos'''\n",
    "amostra_m = int(amostra/2)\n",
    "aj_neg= (np.random.random((amostra_m))*1) # referente a 1mm folga entre raios valores negativos\n",
    "aj_pos= (np.random.random((amostra_m))*-1)# referente a 1mm folga entre raios valores positivos\n",
    "folga_diametro = np.append(aj_neg, aj_pos, axis=0) #concatenacao dos valores negativos e positivos\n",
    "\n",
    "\n",
    "#inserindo as tolerancias da peca2\n",
    "peca2_lc = tolerancia(0.5) #linha de corte da peca 2 | +-0,5mm\n",
    "peca2_conj = tolerancia(1.75) # variacao conhecida na conjunto onde a peca 2 é montada | +-1,75mm"
   ]
  },
  {
   "cell_type": "code",
   "execution_count": 12,
   "metadata": {},
   "outputs": [
    {
     "name": "stdout",
     "output_type": "stream",
     "text": [
      "Máxima variação considerando 8 sigmas (99,994%): -1.396 \\ +1.612\n",
      "count    100000.000000\n",
      "mean          0.099378\n",
      "std           0.603735\n",
      "min          -1.494191\n",
      "25%          -0.400932\n",
      "50%           0.096926\n",
      "75%           0.600150\n",
      "max           1.700756\n",
      "dtype: float64\n"
     ]
    }
   ],
   "source": [
    "#Total peca 1\n",
    "tol_peca1 = (peca1_lc+tol_furo1+tol_furo2+pinorps+folga_diametro)\n",
    "print('Máxima variação considerando 8 sigmas (99,994%): {} \\ +{}'\\\n",
    "      .format(round(tol_peca1.quantile(.00006),3),round(tol_peca1.quantile(.99994),3)))\n",
    "print(tol_peca1.describe())"
   ]
  },
  {
   "cell_type": "code",
   "execution_count": 13,
   "metadata": {},
   "outputs": [
    {
     "name": "stdout",
     "output_type": "stream",
     "text": [
      "Máxima variação considerando 8 sigmas (99,994%): -2.279 \\ +2.321\n",
      "count    100000.000000\n",
      "mean         -0.000769\n",
      "std           0.608385\n",
      "min          -2.461642\n",
      "25%          -0.414172\n",
      "50%          -0.001172\n",
      "75%           0.410886\n",
      "max           2.632656\n",
      "dtype: float64\n"
     ]
    }
   ],
   "source": [
    "#Total Peca 2\n",
    "tol_peca2 = (peca2_lc+peca2_conj)\n",
    "print('Máxima variação considerando 8 sigmas (99,994%): {} \\ +{}'\\\n",
    "      .format(round(tol_peca2.quantile(.00006),3),round(tol_peca2.quantile(.99994),3)))\n",
    "print(tol_peca2.describe())"
   ]
  },
  {
   "cell_type": "code",
   "execution_count": 14,
   "metadata": {},
   "outputs": [
    {
     "name": "stdout",
     "output_type": "stream",
     "text": [
      "Máxima variação considerando 8 sigmas (99,994%): -2.877 \\ +2.687\n",
      "count    100000.000000\n",
      "mean          0.098609\n",
      "std           0.857758\n",
      "min          -3.101394\n",
      "25%          -0.506527\n",
      "50%           0.098239\n",
      "75%           0.699207\n",
      "max           3.596526\n",
      "dtype: float64\n"
     ]
    }
   ],
   "source": [
    "#Total\n",
    "tol_total = (tol_peca1+tol_peca2)\n",
    "print('Máxima variação considerando 8 sigmas (99,994%): {} \\ +{}'\\\n",
    "      .format(round(tol_total.quantile(.00006),3),round(tol_total.quantile(.9994),3)))\n",
    "print(tol_total.describe())"
   ]
  },
  {
   "cell_type": "code",
   "execution_count": 15,
   "metadata": {},
   "outputs": [],
   "source": [
    "#Nomenado as Series\n",
    "\n",
    "tol_total.name = 'Total'\n"
   ]
  },
  {
   "cell_type": "code",
   "execution_count": 16,
   "metadata": {},
   "outputs": [],
   "source": [
    "#negrito\n",
    "start = \"\\033[1m\"\n",
    "end = \"\\033[0;0m\""
   ]
  },
  {
   "cell_type": "code",
   "execution_count": 24,
   "metadata": {},
   "outputs": [
    {
     "name": "stdout",
     "output_type": "stream",
     "text": [
      "\u001b[1m\n",
      "Somatória Total\u001b[0;0m\n",
      "count    100000.000000\n",
      "mean          0.098609\n",
      "std           0.857758\n",
      "min          -3.101394\n",
      "25%          -0.506527\n",
      "50%           0.098239\n",
      "75%           0.699207\n",
      "max           3.596526\n",
      "Name: Total, dtype: float64\n",
      "\u001b[1m\n",
      "Somatória peça 1\u001b[0;0m\n",
      "count    100000.000000\n",
      "mean          0.099378\n",
      "std           0.603735\n",
      "min          -1.494191\n",
      "25%          -0.400932\n",
      "50%           0.096926\n",
      "75%           0.600150\n",
      "max           1.700756\n",
      "dtype: float64\n",
      "\u001b[1m\n",
      "Somatória peça 2\u001b[0;0m\n",
      "count    100000.000000\n",
      "mean         -0.000769\n",
      "std           0.608385\n",
      "min          -2.461642\n",
      "25%          -0.414172\n",
      "50%          -0.001172\n",
      "75%           0.410886\n",
      "max           2.632656\n",
      "dtype: float64\n"
     ]
    }
   ],
   "source": [
    "#imprimir resumo para cada peça\n",
    "\n",
    "print(start+'\\nSomatória Total'+end)\n",
    "print(tol_total.describe())\n",
    "print(start+'\\nSomatória peça 1'+end)\n",
    "print(tol_peca1.describe())\n",
    "print(start+'\\nSomatória peça 2'+end)\n",
    "print(tol_peca2.describe())\n"
   ]
  },
  {
   "cell_type": "code",
   "execution_count": 25,
   "metadata": {},
   "outputs": [
    {
     "name": "stdout",
     "output_type": "stream",
     "text": [
      "Máxima variação considerando 8 sigmas (99,994%): -2.877 \\ +3.213\n"
     ]
    }
   ],
   "source": [
    "#Imprime qual a variação máxima considerando 6 sigmas\n",
    "tsigma8p = tol_total.quantile(0.99994)\n",
    "tsigma8n = tol_total.quantile(0.00006)\n",
    "print('Máxima variação considerando 8 sigmas (99,994%): {} \\ +{}'.format(round(tsigma8n,3),round(tsigma8p,3)))"
   ]
  },
  {
   "cell_type": "code",
   "execution_count": 26,
   "metadata": {},
   "outputs": [
    {
     "name": "stdout",
     "output_type": "stream",
     "text": [
      "Máxima variação considerando 6 sigmas (99,97%): -2.142 \\ +2.359\n"
     ]
    }
   ],
   "source": [
    "#Imprime qual a variação máxima considerando 6 sigmas\n",
    "tsigma6p = tol_total.quantile(0.997)\n",
    "tsigma6n = tol_total.quantile(0.003)\n",
    "print('Máxima variação considerando 6 sigmas (99,97%): {} \\ +{}'.format(round(tsigma6n,3),round(tsigma6p,3)))"
   ]
  },
  {
   "cell_type": "code",
   "execution_count": 27,
   "metadata": {},
   "outputs": [
    {
     "name": "stderr",
     "output_type": "stream",
     "text": [
      "C:\\Users\\caior\\AppData\\Roaming\\Python\\Python37\\site-packages\\scipy\\stats\\morestats.py:1676: UserWarning: p-value may not be accurate for N > 5000.\n",
      "  warnings.warn(\"p-value may not be accurate for N > 5000.\")\n"
     ]
    },
    {
     "name": "stdout",
     "output_type": "stream",
     "text": [
      "(0.9991347193717957, 2.215693097367929e-20)\n"
     ]
    },
    {
     "data": {
      "image/png": "[encoded data removed]",
      "text/plain": [
       "<Figure size 432x288 with 1 Axes>"
      ]
     },
     "metadata": {
      "needs_background": "light"
     },
     "output_type": "display_data"
    }
   ],
   "source": [
    "#Verificar se a distribuição é normal\n",
    "stats.probplot(tol_total, plot=plt)\n",
    "print(stats.shapiro(tol_total))"
   ]
  },
  {
   "cell_type": "code",
   "execution_count": 28,
   "metadata": {},
   "outputs": [
    {
     "name": "stdout",
     "output_type": "stream",
     "text": [
      "8Sigma: +3.2126340504351mm / -2.8769239493992416mm\n",
      "Média 0.09860870996595557mm\n"
     ]
    },
    {
     "data": {
      "image/png": "[encoded data removed]",
      "text/plain": [
       "<Figure size 864x576 with 1 Axes>"
      ]
     },
     "metadata": {
      "needs_background": "light"
     },
     "output_type": "display_data"
    }
   ],
   "source": [
    "plothist(tol_total)\n"
   ]
  }
 ],
 "metadata": {
  "kernelspec": {
   "display_name": "Python 3",
   "language": "python",
   "name": "python3"
  },
  "language_info": {
   "codemirror_mode": {
    "name": "ipython",
    "version": 3
   },
   "file_extension": ".py",
   "mimetype": "text/x-python",
   "name": "python",
   "nbconvert_exporter": "python",
   "pygments_lexer": "ipython3",
   "version": "3.7.4"
  }
 },
 "nbformat": 4,
 "nbformat_minor": 2
}
